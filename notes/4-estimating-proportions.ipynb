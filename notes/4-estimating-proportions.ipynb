{
 "cells": [
  {
   "cell_type": "markdown",
   "id": "0acb51a0-4c00-4b56-925a-20e22a171a31",
   "metadata": {},
   "source": [
    "# Notes"
   ]
  },
  {
   "cell_type": "markdown",
   "id": "a2253728-0c68-4afa-a18d-0ff550090baa",
   "metadata": {},
   "source": [
    "## Set-up"
   ]
  },
  {
   "cell_type": "markdown",
   "id": "cc8f8b74-b66f-4135-b8c9-f2f201359e22",
   "metadata": {},
   "source": [
    "### Packages"
   ]
  },
  {
   "cell_type": "code",
   "execution_count": 26,
   "id": "97aa2851-bfde-47da-87f7-0783f6a66a5f",
   "metadata": {
    "tags": []
   },
   "outputs": [],
   "source": [
    "import random\n",
    "\n",
    "import numpy as np\n",
    "from matplotlib import pyplot as plt\n",
    "import pandas as pd\n",
    "from scipy import stats\n",
    "import seaborn as sns\n",
    "\n",
    "sns.set_theme()"
   ]
  },
  {
   "cell_type": "markdown",
   "id": "52647e12-8fca-4bdd-8989-d921c115cd2c",
   "metadata": {},
   "source": [
    "## The Euro Problem"
   ]
  },
  {
   "cell_type": "markdown",
   "id": "908ea839-aa78-40b8-8681-d5b44a7e6b6c",
   "metadata": {},
   "source": [
    "“A statistical statement appeared in The Guardian on Friday January 4, 2002:\n",
    "\n",
    ">When spun on edge 250 times, a Belgian one-euro coin came up heads 140 times and tails 110. \"It looks very suspicious to me,\" said Barry Blight, a statistics lecturer at the London School of Economics. \"If the coin were unbiased, the chance of getting a result as extreme as that would be less than 7%.:\n",
    "\n",
    "“But [MacKay asks] do these data give evidence that the coin is biased rather than fair?”"
   ]
  },
  {
   "cell_type": "markdown",
   "id": "d81d7750-e4d1-40f7-ae9d-7b8257278e8e",
   "metadata": {},
   "source": [
    "## The Binomial Distribution\n",
    "\n",
    "If the coin were fair, the distribution would look as follows:"
   ]
  },
  {
   "cell_type": "code",
   "execution_count": 8,
   "id": "b1ba16a5-3b5a-4dba-90f7-08653014e419",
   "metadata": {
    "tags": []
   },
   "outputs": [
    {
     "data": {
      "image/png": "[encoded data removed]",
      "text/plain": [
       "<Figure size 640x480 with 1 Axes>"
      ]
     },
     "metadata": {},
     "output_type": "display_data"
    }
   ],
   "source": [
    "n = 250\n",
    "p = 0.5\n",
    "coin_dist = stats.binom(n, p)\n",
    "\n",
    "fig, ax = plt.subplots()\n",
    "\n",
    "n_heads = np.arange(0, n + 1)\n",
    "ax.plot(n_heads, coin_dist.pmf(n_heads))\n",
    "\n",
    "ax.set(\n",
    "    xlabel=\"Number of Heads\",\n",
    "    ylabel=\"Probability\",\n",
    "    title=\"Distribution of Number of Heads\",\n",
    ");"
   ]
  },
  {
   "cell_type": "markdown",
   "id": "8d041cdd-3482-406d-8d75-ca7e74447404",
   "metadata": {},
   "source": [
    "The probability of getting a result 'as extreme as' 140 heads is the probability of at least 140 heads plus the probability of fewer than or equal to 110 heads."
   ]
  },
  {
   "cell_type": "code",
   "execution_count": 15,
   "id": "e9ee249c-90fd-4c02-b9a0-607ef29ec5a7",
   "metadata": {
    "tags": []
   },
   "outputs": [
    {
     "name": "stdout",
     "output_type": "stream",
     "text": [
      "Probability of a result this extreme with a fair coin: 0.066\n"
     ]
    }
   ],
   "source": [
    "prob = (1 - coin_dist.cdf(139)) + coin_dist.cdf(110)\n",
    "print(f\"Probability of a result this extreme with a fair coin: {prob:.3f}\")"
   ]
  },
  {
   "cell_type": "markdown",
   "id": "9fbf5b04-6017-43d8-b450-cb4a01a0a154",
   "metadata": {},
   "source": [
    "## Bayesian Estimation\n",
    "\n",
    "Treat the probability of a heads as a random variable. We initially assume that all values between 0 and 1 are equally likely (a uniform prior) and perform Bayesian updates to the distribution after each coin toss.\n",
    "\n",
    "Annoyingly `scipy.stats` wants discrete uniform distributions to take integer values, so we should think of, e.g. 3 representing 0.03."
   ]
  },
  {
   "cell_type": "code",
   "execution_count": 20,
   "id": "f9f077c1-c851-4fcf-a4b7-268986e967cc",
   "metadata": {
    "tags": []
   },
   "outputs": [],
   "source": [
    "def bayesian_update(prior, likelihoods):\n",
    "    \"returns posterior after Bayesian update\"\n",
    "    support = prior.support()\n",
    "    possible_outcomes = range(support[0], support[1] + 1)\n",
    "    outcomes = [outcome for outcome in possible_outcomes if prior.pmf(outcome) != 0]\n",
    "    \n",
    "    posterior_probs = []\n",
    "    for outcome in outcomes:\n",
    "        posterior_probs.append(prior.pmf(outcome) * likelihoods[outcome])\n",
    "\n",
    "    posterior_probs = [prob / sum(posterior_probs) for prob in posterior_probs]\n",
    "    posterior = stats.rv_discrete(values=[outcomes, posterior_probs])\n",
    "\n",
    "    return posterior"
   ]
  },
  {
   "cell_type": "code",
   "execution_count": 34,
   "id": "42426bc1-5c4a-428d-afd8-1023d93382f1",
   "metadata": {
    "tags": []
   },
   "outputs": [
    {
     "ename": "KeyboardInterrupt",
     "evalue": "",
     "output_type": "error",
     "traceback": [
      "\u001b[0;31m---------------------------------------------------------------------------\u001b[0m",
      "\u001b[0;31mKeyboardInterrupt\u001b[0m                         Traceback (most recent call last)",
      "Cell \u001b[0;32mIn[34], line 19\u001b[0m\n\u001b[1;32m     17\u001b[0m posterior \u001b[38;5;241m=\u001b[39m prior\n\u001b[1;32m     18\u001b[0m \u001b[38;5;28;01mfor\u001b[39;00m result \u001b[38;5;129;01min\u001b[39;00m coin_flip_results:\n\u001b[0;32m---> 19\u001b[0m     posterior \u001b[38;5;241m=\u001b[39m \u001b[43mbayesian_update\u001b[49m\u001b[43m(\u001b[49m\u001b[43mposterior\u001b[49m\u001b[43m,\u001b[49m\u001b[43m \u001b[49m\u001b[43mlikelihoods\u001b[49m\u001b[43m[\u001b[49m\u001b[43mresult\u001b[49m\u001b[43m]\u001b[49m\u001b[43m)\u001b[49m  \n\u001b[1;32m     20\u001b[0m     \u001b[38;5;66;03m# ax.plot(x_val/100, posterior.pmf(x_val))\u001b[39;00m\n\u001b[1;32m     22\u001b[0m ax\u001b[38;5;241m.\u001b[39mplot(x_val\u001b[38;5;241m/\u001b[39m\u001b[38;5;241m100\u001b[39m, posterior\u001b[38;5;241m.\u001b[39mpmf(x_val))\n",
      "Cell \u001b[0;32mIn[20], line 5\u001b[0m, in \u001b[0;36mbayesian_update\u001b[0;34m(prior, likelihoods)\u001b[0m\n\u001b[1;32m      3\u001b[0m support \u001b[38;5;241m=\u001b[39m prior\u001b[38;5;241m.\u001b[39msupport()\n\u001b[1;32m      4\u001b[0m possible_outcomes \u001b[38;5;241m=\u001b[39m \u001b[38;5;28mrange\u001b[39m(support[\u001b[38;5;241m0\u001b[39m], support[\u001b[38;5;241m1\u001b[39m] \u001b[38;5;241m+\u001b[39m \u001b[38;5;241m1\u001b[39m)\n\u001b[0;32m----> 5\u001b[0m outcomes \u001b[38;5;241m=\u001b[39m [outcome \u001b[38;5;28;01mfor\u001b[39;00m outcome \u001b[38;5;129;01min\u001b[39;00m possible_outcomes \u001b[38;5;28;01mif\u001b[39;00m prior\u001b[38;5;241m.\u001b[39mpmf(outcome) \u001b[38;5;241m!=\u001b[39m \u001b[38;5;241m0\u001b[39m]\n\u001b[1;32m      7\u001b[0m posterior_probs \u001b[38;5;241m=\u001b[39m []\n\u001b[1;32m      8\u001b[0m \u001b[38;5;28;01mfor\u001b[39;00m outcome \u001b[38;5;129;01min\u001b[39;00m outcomes:\n",
      "Cell \u001b[0;32mIn[20], line 5\u001b[0m, in \u001b[0;36m<listcomp>\u001b[0;34m(.0)\u001b[0m\n\u001b[1;32m      3\u001b[0m support \u001b[38;5;241m=\u001b[39m prior\u001b[38;5;241m.\u001b[39msupport()\n\u001b[1;32m      4\u001b[0m possible_outcomes \u001b[38;5;241m=\u001b[39m \u001b[38;5;28mrange\u001b[39m(support[\u001b[38;5;241m0\u001b[39m], support[\u001b[38;5;241m1\u001b[39m] \u001b[38;5;241m+\u001b[39m \u001b[38;5;241m1\u001b[39m)\n\u001b[0;32m----> 5\u001b[0m outcomes \u001b[38;5;241m=\u001b[39m [outcome \u001b[38;5;28;01mfor\u001b[39;00m outcome \u001b[38;5;129;01min\u001b[39;00m possible_outcomes \u001b[38;5;28;01mif\u001b[39;00m \u001b[43mprior\u001b[49m\u001b[38;5;241;43m.\u001b[39;49m\u001b[43mpmf\u001b[49m\u001b[43m(\u001b[49m\u001b[43moutcome\u001b[49m\u001b[43m)\u001b[49m \u001b[38;5;241m!=\u001b[39m \u001b[38;5;241m0\u001b[39m]\n\u001b[1;32m      7\u001b[0m posterior_probs \u001b[38;5;241m=\u001b[39m []\n\u001b[1;32m      8\u001b[0m \u001b[38;5;28;01mfor\u001b[39;00m outcome \u001b[38;5;129;01min\u001b[39;00m outcomes:\n",
      "File \u001b[0;32m~/P/think-bayes/env/lib/python3.10/site-packages/scipy/stats/_distn_infrastructure.py:3392\u001b[0m, in \u001b[0;36mrv_discrete.pmf\u001b[0;34m(self, k, *args, **kwds)\u001b[0m\n\u001b[1;32m   3390\u001b[0m \u001b[38;5;28;01mif\u001b[39;00m np\u001b[38;5;241m.\u001b[39many(cond):\n\u001b[1;32m   3391\u001b[0m     goodargs \u001b[38;5;241m=\u001b[39m argsreduce(cond, \u001b[38;5;241m*\u001b[39m((k,)\u001b[38;5;241m+\u001b[39margs))\n\u001b[0;32m-> 3392\u001b[0m     place(output, cond, np\u001b[38;5;241m.\u001b[39mclip(\u001b[38;5;28;43mself\u001b[39;49m\u001b[38;5;241;43m.\u001b[39;49m\u001b[43m_pmf\u001b[49m\u001b[43m(\u001b[49m\u001b[38;5;241;43m*\u001b[39;49m\u001b[43mgoodargs\u001b[49m\u001b[43m)\u001b[49m, \u001b[38;5;241m0\u001b[39m, \u001b[38;5;241m1\u001b[39m))\n\u001b[1;32m   3393\u001b[0m \u001b[38;5;28;01mif\u001b[39;00m output\u001b[38;5;241m.\u001b[39mndim \u001b[38;5;241m==\u001b[39m \u001b[38;5;241m0\u001b[39m:\n\u001b[1;32m   3394\u001b[0m     \u001b[38;5;28;01mreturn\u001b[39;00m output[()]\n",
      "File \u001b[0;32m~/P/think-bayes/env/lib/python3.10/site-packages/scipy/stats/_distn_infrastructure.py:3957\u001b[0m, in \u001b[0;36mrv_sample._pmf\u001b[0;34m(self, x)\u001b[0m\n\u001b[1;32m   3956\u001b[0m \u001b[38;5;28;01mdef\u001b[39;00m \u001b[38;5;21m_pmf\u001b[39m(\u001b[38;5;28mself\u001b[39m, x):\n\u001b[0;32m-> 3957\u001b[0m     \u001b[38;5;28;01mreturn\u001b[39;00m \u001b[43mnp\u001b[49m\u001b[38;5;241;43m.\u001b[39;49m\u001b[43mselect\u001b[49m\u001b[43m(\u001b[49m\u001b[43m[\u001b[49m\u001b[43mx\u001b[49m\u001b[43m \u001b[49m\u001b[38;5;241;43m==\u001b[39;49m\u001b[43m \u001b[49m\u001b[43mk\u001b[49m\u001b[43m \u001b[49m\u001b[38;5;28;43;01mfor\u001b[39;49;00m\u001b[43m \u001b[49m\u001b[43mk\u001b[49m\u001b[43m \u001b[49m\u001b[38;5;129;43;01min\u001b[39;49;00m\u001b[43m \u001b[49m\u001b[38;5;28;43mself\u001b[39;49m\u001b[38;5;241;43m.\u001b[39;49m\u001b[43mxk\u001b[49m\u001b[43m]\u001b[49m\u001b[43m,\u001b[49m\n\u001b[1;32m   3958\u001b[0m \u001b[43m                     \u001b[49m\u001b[43m[\u001b[49m\u001b[43mnp\u001b[49m\u001b[38;5;241;43m.\u001b[39;49m\u001b[43mbroadcast_arrays\u001b[49m\u001b[43m(\u001b[49m\u001b[43mp\u001b[49m\u001b[43m,\u001b[49m\u001b[43m \u001b[49m\u001b[43mx\u001b[49m\u001b[43m)\u001b[49m\u001b[43m[\u001b[49m\u001b[38;5;241;43m0\u001b[39;49m\u001b[43m]\u001b[49m\u001b[43m \u001b[49m\u001b[38;5;28;43;01mfor\u001b[39;49;00m\u001b[43m \u001b[49m\u001b[43mp\u001b[49m\u001b[43m \u001b[49m\u001b[38;5;129;43;01min\u001b[39;49;00m\u001b[43m \u001b[49m\u001b[38;5;28;43mself\u001b[39;49m\u001b[38;5;241;43m.\u001b[39;49m\u001b[43mpk\u001b[49m\u001b[43m]\u001b[49m\u001b[43m,\u001b[49m\u001b[43m \u001b[49m\u001b[38;5;241;43m0\u001b[39;49m\u001b[43m)\u001b[49m\n",
      "File \u001b[0;32m<__array_function__ internals>:200\u001b[0m, in \u001b[0;36mselect\u001b[0;34m(*args, **kwargs)\u001b[0m\n",
      "File \u001b[0;32m~/P/think-bayes/env/lib/python3.10/site-packages/numpy/lib/function_base.py:854\u001b[0m, in \u001b[0;36mselect\u001b[0;34m(condlist, choicelist, default)\u001b[0m\n\u001b[1;32m    851\u001b[0m \u001b[38;5;28;01melse\u001b[39;00m:\n\u001b[1;32m    852\u001b[0m     result_shape \u001b[38;5;241m=\u001b[39m np\u001b[38;5;241m.\u001b[39mbroadcast_arrays(condlist[\u001b[38;5;241m0\u001b[39m], choicelist[\u001b[38;5;241m0\u001b[39m])[\u001b[38;5;241m0\u001b[39m]\u001b[38;5;241m.\u001b[39mshape\n\u001b[0;32m--> 854\u001b[0m result \u001b[38;5;241m=\u001b[39m \u001b[43mnp\u001b[49m\u001b[38;5;241;43m.\u001b[39;49m\u001b[43mfull\u001b[49m\u001b[43m(\u001b[49m\u001b[43mresult_shape\u001b[49m\u001b[43m,\u001b[49m\u001b[43m \u001b[49m\u001b[43mchoicelist\u001b[49m\u001b[43m[\u001b[49m\u001b[38;5;241;43m-\u001b[39;49m\u001b[38;5;241;43m1\u001b[39;49m\u001b[43m]\u001b[49m\u001b[43m,\u001b[49m\u001b[43m \u001b[49m\u001b[43mdtype\u001b[49m\u001b[43m)\u001b[49m\n\u001b[1;32m    856\u001b[0m \u001b[38;5;66;03m# Use np.copyto to burn each choicelist array onto result, using the\u001b[39;00m\n\u001b[1;32m    857\u001b[0m \u001b[38;5;66;03m# corresponding condlist as a boolean mask. This is done in reverse\u001b[39;00m\n\u001b[1;32m    858\u001b[0m \u001b[38;5;66;03m# order since the first choice should take precedence.\u001b[39;00m\n\u001b[1;32m    859\u001b[0m choicelist \u001b[38;5;241m=\u001b[39m choicelist[\u001b[38;5;241m-\u001b[39m\u001b[38;5;241m2\u001b[39m::\u001b[38;5;241m-\u001b[39m\u001b[38;5;241m1\u001b[39m]\n",
      "File \u001b[0;32m~/P/think-bayes/env/lib/python3.10/site-packages/numpy/core/numeric.py:344\u001b[0m, in \u001b[0;36mfull\u001b[0;34m(shape, fill_value, dtype, order, like)\u001b[0m\n\u001b[1;32m    342\u001b[0m     fill_value \u001b[38;5;241m=\u001b[39m asarray(fill_value)\n\u001b[1;32m    343\u001b[0m     dtype \u001b[38;5;241m=\u001b[39m fill_value\u001b[38;5;241m.\u001b[39mdtype\n\u001b[0;32m--> 344\u001b[0m a \u001b[38;5;241m=\u001b[39m \u001b[43mempty\u001b[49m\u001b[43m(\u001b[49m\u001b[43mshape\u001b[49m\u001b[43m,\u001b[49m\u001b[43m \u001b[49m\u001b[43mdtype\u001b[49m\u001b[43m,\u001b[49m\u001b[43m \u001b[49m\u001b[43morder\u001b[49m\u001b[43m)\u001b[49m\n\u001b[1;32m    345\u001b[0m multiarray\u001b[38;5;241m.\u001b[39mcopyto(a, fill_value, casting\u001b[38;5;241m=\u001b[39m\u001b[38;5;124m'\u001b[39m\u001b[38;5;124munsafe\u001b[39m\u001b[38;5;124m'\u001b[39m)\n\u001b[1;32m    346\u001b[0m \u001b[38;5;28;01mreturn\u001b[39;00m a\n",
      "\u001b[0;31mKeyboardInterrupt\u001b[0m: "
     ]
    },
    {
     "data": {
      "image/png": "[encoded data removed]",
      "text/plain": [
       "<Figure size 640x480 with 1 Axes>"
      ]
     },
     "metadata": {},
     "output_type": "display_data"
    }
   ],
   "source": [
    "prior = stats.randint(0, 101)\n",
    "\n",
    "likelihoods = {\n",
    "    \"H\": np.linspace(0, 1, 101),\n",
    "    \"T\": 1 - np.linspace(0, 1, 101),\n",
    "}\n",
    "\n",
    "coin_flip_results = [\"H\"] * 140 + [\"T\"] * 110\n",
    "random.shuffle(coin_flip_results)\n",
    "\n",
    "fig, ax = plt.subplots()\n",
    "\n",
    "x_val = np.arange(101)\n",
    "\n",
    "ax.plot(x_val/100, prior.pmf(x_val))\n",
    "\n",
    "posterior = prior\n",
    "for result in coin_flip_results:\n",
    "    posterior = bayesian_update(posterior, likelihoods[result])  \n",
    "    ax.plot(x_val/100, posterior.pmf(x_val))\n",
    "\n",
    "ax.set(\n",
    "    xlabel=\"Probability\",\n",
    "    ylabel=\"Heads Probability\",\n",
    "    title=\"Distribution of Heads Probability After Bayesian Updates\",\n",
    ");"
   ]
  },
  {
   "cell_type": "code",
   "execution_count": 33,
   "id": "3473dd2e-9340-4d13-9488-253856d71524",
   "metadata": {
    "tags": []
   },
   "outputs": [
    {
     "name": "stdout",
     "output_type": "stream",
     "text": [
      "Most likely heads probability: 1.4\n"
     ]
    }
   ],
   "source": [
    "map_prob = np.argmax(np.array([posterior.pmf(i) for i in np.arange(101)]))\n",
    "print(f\"Most likely heads probability: {map_prob / 100}\")"
   ]
  },
  {
   "cell_type": "markdown",
   "id": "89e05916-1a77-471a-972d-abd4c77feeb8",
   "metadata": {},
   "source": [
    "Q: Why aren't we working with continuous distributions?"
   ]
  },
  {
   "cell_type": "code",
   "execution_count": null,
   "id": "8e78d5d7-5468-4775-aff8-4c49cda59acf",
   "metadata": {},
   "outputs": [],
   "source": []
  }
 ],
 "metadata": {
  "kernelspec": {
   "display_name": "Python 3 (ipykernel)",
   "language": "python",
   "name": "python3"
  },
  "language_info": {
   "codemirror_mode": {
    "name": "ipython",
    "version": 3
   },
   "file_extension": ".py",
   "mimetype": "text/x-python",
   "name": "python",
   "nbconvert_exporter": "python",
   "pygments_lexer": "ipython3",
   "version": "3.10.9"
  }
 },
 "nbformat": 4,
 "nbformat_minor": 5
}
