{
 "cells": [
  {
   "cell_type": "markdown",
   "id": "eefa4e1d-1af8-42dc-b32a-d8fe0012e2c7",
   "metadata": {},
   "source": [
    "# Notes"
   ]
  },
  {
   "cell_type": "markdown",
   "id": "62ee583b-79bd-4e6a-94ff-e9f67340506f",
   "metadata": {},
   "source": [
    "## Set-up"
   ]
  },
  {
   "cell_type": "markdown",
   "id": "261e8525-cebc-43fe-8bd8-d9b705ec1158",
   "metadata": {},
   "source": [
    "### Packages"
   ]
  },
  {
   "cell_type": "code",
   "execution_count": 7,
   "id": "4b1ec663-3edb-4a0e-aa4a-d9138dec9803",
   "metadata": {
    "tags": []
   },
   "outputs": [],
   "source": [
    "from fractions import Fraction\n",
    "\n",
    "import numpy as np\n",
    "import pandas as pd"
   ]
  },
  {
   "cell_type": "markdown",
   "id": "0e3b0e87-9f81-4de1-8a15-45013a0ca54a",
   "metadata": {},
   "source": [
    "## Bayes' Theorem"
   ]
  },
  {
   "cell_type": "markdown",
   "id": "86d4cbe9-e636-4893-889a-8b3a19555518",
   "metadata": {},
   "source": [
    "Bayes' Theorem can be very useful when we don't have the complete dataset and so can't calculate conditional probabilities directly."
   ]
  },
  {
   "cell_type": "markdown",
   "id": "17e99fff-dd8f-436a-9792-78e6df61601b",
   "metadata": {},
   "source": [
    "## Diachronic Bayes"
   ]
  },
  {
   "cell_type": "markdown",
   "id": "a3035051-cb7d-4e2f-9e4c-876e9fe5c6b7",
   "metadata": {},
   "source": [
    "*Diachronic*: Related to change over time.\n",
    "\n",
    "Bayes' Theorem gives us a way to update the probability of a hypothesis, $H$, given some body of data $D$.\n",
    "\n",
    "In this context Bayes' Theorem is\n",
    "\n",
    "\\begin{equation}\n",
    "    P(H|D)= \\frac{P(D|H) \\cdot P(H)}{P(D)}.\n",
    "\\end{equation}\n",
    "\n",
    "Each component has a name:\n",
    "- $P(H)$ is the *prior* probability: the probability of the hypothesis before seeing the data.\n",
    "- $P(D|H)$ is the *likelihood*: the probability of seeing the data under the hypothesis.\n",
    "- $P(D)$ is the *total probability* of the data: the probability of seeing the data under any hypothesis.\n",
    "- $P(H|D)$ is the *posterior* probability: the probability of the hypothesis after seeing the data.\n",
    "\n",
    "The prior might be based on objective background information or might be subjective.\n",
    "\n",
    "The total probability is a normalising factor. To calculate it we generally need a set of MECE hypothesis, each with prior probabilities.\n",
    "\n",
    "The process of computing the posterior probability from the prior using data is called a *Bayesian update*."
   ]
  },
  {
   "cell_type": "markdown",
   "id": "e0b8f9e4-9321-4a30-b9f3-815e8226a1c7",
   "metadata": {},
   "source": [
    "## The Dice Problem\n",
    "\n",
    ">Suppose I have a box with a 6-sided die, an 8-sided die, and a 12-sided die. I choose one of the dice at random, roll it, and report that the outcome is a 1. What is the probability that I chose the 6-sided die?\n",
    "\n",
    "We perform a Bayesian update under the prior that we were equally likely to choose each die."
   ]
  },
  {
   "cell_type": "code",
   "execution_count": 22,
   "id": "98c41ad7-7ea2-453b-858b-f69f76a6d26f",
   "metadata": {
    "tags": []
   },
   "outputs": [
    {
     "data": {
      "text/html": [
       "<div>\n",
       "<style scoped>\n",
       "    .dataframe tbody tr th:only-of-type {\n",
       "        vertical-align: middle;\n",
       "    }\n",
       "\n",
       "    .dataframe tbody tr th {\n",
       "        vertical-align: top;\n",
       "    }\n",
       "\n",
       "    .dataframe thead th {\n",
       "        text-align: right;\n",
       "    }\n",
       "</style>\n",
       "<table border=\"1\" class=\"dataframe\">\n",
       "  <thead>\n",
       "    <tr style=\"text-align: right;\">\n",
       "      <th></th>\n",
       "      <th>prior</th>\n",
       "      <th>likelihood</th>\n",
       "    </tr>\n",
       "    <tr>\n",
       "      <th>die</th>\n",
       "      <th></th>\n",
       "      <th></th>\n",
       "    </tr>\n",
       "  </thead>\n",
       "  <tbody>\n",
       "    <tr>\n",
       "      <th>6-sided</th>\n",
       "      <td>1/3</td>\n",
       "      <td>1/6</td>\n",
       "    </tr>\n",
       "    <tr>\n",
       "      <th>8-sided</th>\n",
       "      <td>1/3</td>\n",
       "      <td>1/8</td>\n",
       "    </tr>\n",
       "    <tr>\n",
       "      <th>12-sided</th>\n",
       "      <td>1/3</td>\n",
       "      <td>1/12</td>\n",
       "    </tr>\n",
       "  </tbody>\n",
       "</table>\n",
       "</div>"
      ],
      "text/plain": [
       "         prior likelihood\n",
       "die                      \n",
       "6-sided    1/3        1/6\n",
       "8-sided    1/3        1/8\n",
       "12-sided   1/3       1/12"
      ]
     },
     "execution_count": 22,
     "metadata": {},
     "output_type": "execute_result"
    }
   ],
   "source": [
    "table = pd.DataFrame(index=[\"6-sided\", \"8-sided\", \"12-sided\"])\n",
    "table.index = table.index.rename(\"die\")\n",
    "\n",
    "table[\"prior\"] = Fraction(1, 3)\n",
    "table[\"likelihood\"] = Fraction(1, 6), Fraction(1, 8), Fraction(1, 12)\n",
    "\n",
    "table"
   ]
  },
  {
   "cell_type": "code",
   "execution_count": 18,
   "id": "d37f59ee-43e7-477a-93b0-eba3909d731f",
   "metadata": {
    "tags": []
   },
   "outputs": [
    {
     "data": {
      "text/html": [
       "<div>\n",
       "<style scoped>\n",
       "    .dataframe tbody tr th:only-of-type {\n",
       "        vertical-align: middle;\n",
       "    }\n",
       "\n",
       "    .dataframe tbody tr th {\n",
       "        vertical-align: top;\n",
       "    }\n",
       "\n",
       "    .dataframe thead th {\n",
       "        text-align: right;\n",
       "    }\n",
       "</style>\n",
       "<table border=\"1\" class=\"dataframe\">\n",
       "  <thead>\n",
       "    <tr style=\"text-align: right;\">\n",
       "      <th></th>\n",
       "      <th>prior</th>\n",
       "      <th>likelihood</th>\n",
       "      <th>unnorm</th>\n",
       "      <th>posterior</th>\n",
       "    </tr>\n",
       "  </thead>\n",
       "  <tbody>\n",
       "    <tr>\n",
       "      <th>6-sided</th>\n",
       "      <td>1/3</td>\n",
       "      <td>1/6</td>\n",
       "      <td>1/18</td>\n",
       "      <td>4/9</td>\n",
       "    </tr>\n",
       "    <tr>\n",
       "      <th>8-sided</th>\n",
       "      <td>1/3</td>\n",
       "      <td>1/8</td>\n",
       "      <td>1/24</td>\n",
       "      <td>1/3</td>\n",
       "    </tr>\n",
       "    <tr>\n",
       "      <th>12-sided</th>\n",
       "      <td>1/3</td>\n",
       "      <td>1/12</td>\n",
       "      <td>1/36</td>\n",
       "      <td>2/9</td>\n",
       "    </tr>\n",
       "  </tbody>\n",
       "</table>\n",
       "</div>"
      ],
      "text/plain": [
       "         prior likelihood unnorm posterior\n",
       "6-sided    1/3        1/6   1/18       4/9\n",
       "8-sided    1/3        1/8   1/24       1/3\n",
       "12-sided   1/3       1/12   1/36       2/9"
      ]
     },
     "execution_count": 18,
     "metadata": {},
     "output_type": "execute_result"
    }
   ],
   "source": [
    "def update(table):\n",
    "    \"\"\"Compute posterior probabilities.\"\"\"\n",
    "    # un-normalised posteriors\n",
    "    table[\"unnorm\"] = table[\"prior\"] * table[\"likelihood\"]\n",
    "\n",
    "    total_prob = table[\"unnorm\"].sum()\n",
    "    table[\"posterior\"] = table[\"unnorm\"] / total_prob\n",
    "    \n",
    "    return total_prob\n",
    "\n",
    "\n",
    "total_prob = update(table)\n",
    "table"
   ]
  },
  {
   "cell_type": "markdown",
   "id": "ab1fee75-3a74-4d4c-9a5c-0f19317b3eca",
   "metadata": {},
   "source": [
    "# Exercises"
   ]
  },
  {
   "cell_type": "markdown",
   "id": "fa71a48f-6a34-437a-b8b1-53abd0c37002",
   "metadata": {},
   "source": [
    "## Exercise 1\n",
    "\n",
    "Suppose you have two coins in a box. One is a normal coin with heads on one side and tails on the other, and one is a trick coin with heads on both sides. You choose a coin at random and see that one of the sides is heads. What is the probability that you chose the trick coin?"
   ]
  },
  {
   "cell_type": "markdown",
   "id": "0b553795-7fb4-4385-af8d-9db741ae78c4",
   "metadata": {},
   "source": [
    "### Solution"
   ]
  },
  {
   "cell_type": "code",
   "execution_count": 20,
   "id": "2dca6f90-78ea-47b8-9849-a8e5eda0a6ce",
   "metadata": {
    "tags": []
   },
   "outputs": [
    {
     "data": {
      "text/html": [
       "<div>\n",
       "<style scoped>\n",
       "    .dataframe tbody tr th:only-of-type {\n",
       "        vertical-align: middle;\n",
       "    }\n",
       "\n",
       "    .dataframe tbody tr th {\n",
       "        vertical-align: top;\n",
       "    }\n",
       "\n",
       "    .dataframe thead th {\n",
       "        text-align: right;\n",
       "    }\n",
       "</style>\n",
       "<table border=\"1\" class=\"dataframe\">\n",
       "  <thead>\n",
       "    <tr style=\"text-align: right;\">\n",
       "      <th></th>\n",
       "      <th>prior</th>\n",
       "      <th>likelihood</th>\n",
       "      <th>unnorm</th>\n",
       "      <th>posterior</th>\n",
       "    </tr>\n",
       "    <tr>\n",
       "      <th>coin</th>\n",
       "      <th></th>\n",
       "      <th></th>\n",
       "      <th></th>\n",
       "      <th></th>\n",
       "    </tr>\n",
       "  </thead>\n",
       "  <tbody>\n",
       "    <tr>\n",
       "      <th>normal</th>\n",
       "      <td>1/2</td>\n",
       "      <td>1/2</td>\n",
       "      <td>1/4</td>\n",
       "      <td>1/3</td>\n",
       "    </tr>\n",
       "    <tr>\n",
       "      <th>trick</th>\n",
       "      <td>1/2</td>\n",
       "      <td>1</td>\n",
       "      <td>1/2</td>\n",
       "      <td>2/3</td>\n",
       "    </tr>\n",
       "  </tbody>\n",
       "</table>\n",
       "</div>"
      ],
      "text/plain": [
       "       prior likelihood unnorm posterior\n",
       "coin                                    \n",
       "normal   1/2        1/2    1/4       1/3\n",
       "trick    1/2          1    1/2       2/3"
      ]
     },
     "execution_count": 20,
     "metadata": {},
     "output_type": "execute_result"
    }
   ],
   "source": [
    "table = pd.DataFrame(index=[\"normal\", \"trick\"])\n",
    "table.index = table.index.rename(\"coin\")\n",
    "\n",
    "# equally likely you chose each coin\n",
    "table[\"prior\"] = Fraction(1, 2)\n",
    "\n",
    "# if you chose the normal coin there is a 50% chance you would see a head on the side you looked at\n",
    "table.loc[\"normal\", \"likelihood\"] = Fraction(1, 2)\n",
    "\n",
    "# if you chose the trick coin there is a 100% chance you would see a head on the side you looked at\n",
    "table.loc[\"trick\", \"likelihood\"] = 1\n",
    "\n",
    "_ = update(table)\n",
    "table"
   ]
  },
  {
   "cell_type": "markdown",
   "id": "46bfc5ad-0ced-4de5-ab95-877c944cdf37",
   "metadata": {},
   "source": [
    "So there is a 2/3 chance that you chose the trick coin."
   ]
  },
  {
   "cell_type": "markdown",
   "id": "36fa32a8-374c-41e6-b044-1888e069320d",
   "metadata": {},
   "source": [
    "## Exercise 2\n",
    "\n",
    "Suppose you meet someone and learn that they have two children. You ask if either child is a girl and they say yes. What is the probability that both children are girls?"
   ]
  },
  {
   "cell_type": "markdown",
   "id": "09c42ac6-7dd4-4be1-bf04-9612c35ec6ed",
   "metadata": {},
   "source": [
    "### Solution"
   ]
  },
  {
   "cell_type": "code",
   "execution_count": 25,
   "id": "5734b96a-081b-4973-ab5a-d224b2d5e4ce",
   "metadata": {
    "tags": []
   },
   "outputs": [
    {
     "data": {
      "text/html": [
       "<div>\n",
       "<style scoped>\n",
       "    .dataframe tbody tr th:only-of-type {\n",
       "        vertical-align: middle;\n",
       "    }\n",
       "\n",
       "    .dataframe tbody tr th {\n",
       "        vertical-align: top;\n",
       "    }\n",
       "\n",
       "    .dataframe thead th {\n",
       "        text-align: right;\n",
       "    }\n",
       "</style>\n",
       "<table border=\"1\" class=\"dataframe\">\n",
       "  <thead>\n",
       "    <tr style=\"text-align: right;\">\n",
       "      <th></th>\n",
       "      <th>prior</th>\n",
       "      <th>likelihood</th>\n",
       "      <th>unnorm</th>\n",
       "      <th>posterior</th>\n",
       "    </tr>\n",
       "    <tr>\n",
       "      <th>(sex1, sex2)</th>\n",
       "      <th></th>\n",
       "      <th></th>\n",
       "      <th></th>\n",
       "      <th></th>\n",
       "    </tr>\n",
       "  </thead>\n",
       "  <tbody>\n",
       "    <tr>\n",
       "      <th>(f, f)</th>\n",
       "      <td>1/4</td>\n",
       "      <td>1</td>\n",
       "      <td>1/4</td>\n",
       "      <td>1/3</td>\n",
       "    </tr>\n",
       "    <tr>\n",
       "      <th>(f, m)</th>\n",
       "      <td>1/4</td>\n",
       "      <td>1</td>\n",
       "      <td>1/4</td>\n",
       "      <td>1/3</td>\n",
       "    </tr>\n",
       "    <tr>\n",
       "      <th>(m, f)</th>\n",
       "      <td>1/4</td>\n",
       "      <td>1</td>\n",
       "      <td>1/4</td>\n",
       "      <td>1/3</td>\n",
       "    </tr>\n",
       "    <tr>\n",
       "      <th>(m, m)</th>\n",
       "      <td>1/4</td>\n",
       "      <td>0</td>\n",
       "      <td>0</td>\n",
       "      <td>0</td>\n",
       "    </tr>\n",
       "  </tbody>\n",
       "</table>\n",
       "</div>"
      ],
      "text/plain": [
       "             prior  likelihood unnorm posterior\n",
       "(sex1, sex2)                                   \n",
       "(f, f)         1/4           1    1/4       1/3\n",
       "(f, m)         1/4           1    1/4       1/3\n",
       "(m, f)         1/4           1    1/4       1/3\n",
       "(m, m)         1/4           0      0         0"
      ]
     },
     "execution_count": 25,
     "metadata": {},
     "output_type": "execute_result"
    }
   ],
   "source": [
    "table = pd.DataFrame(index=[\"(f, f)\", \"(f, m)\", \"(m, f)\", \"(m, m)\"])\n",
    "table.index = table.index.rename(\"(sex1, sex2)\")\n",
    "\n",
    "table[\"prior\"] = Fraction(1, 4)\n",
    "table[\"likelihood\"] = 1, 1, 1, 0\n",
    "\n",
    "_ = update(table)\n",
    "table"
   ]
  },
  {
   "cell_type": "markdown",
   "id": "35d6d57e-84b4-4258-9ba2-3e78e396d9fe",
   "metadata": {},
   "source": [
    "There is a 1/3 chance that both children are girls."
   ]
  },
  {
   "cell_type": "markdown",
   "id": "5c23fc68-4fb3-43d9-9113-5e5fec39759f",
   "metadata": {},
   "source": [
    "## Exercise 3\n",
    "\n",
    "There are many variations of the Monty Hall problem. For example, suppose Monty always chooses Door 2 if he can, and only chooses Door 3 if he has to (because the car is behind Door 2).\n",
    "\n",
    "- If you choose Door 1 and Monty opens Door 2, what is the probability the car is behind Door 3?\n",
    "- If you choose Door 1 and Monty opens Door 3, what is the probability the car is behind Door 2?"
   ]
  },
  {
   "cell_type": "markdown",
   "id": "2d3c3694-f60e-4597-9302-fad62db6c250",
   "metadata": {},
   "source": [
    "### Solution"
   ]
  },
  {
   "cell_type": "code",
   "execution_count": 26,
   "id": "67b5a77f-a71d-4ade-897b-337620df7224",
   "metadata": {
    "tags": []
   },
   "outputs": [
    {
     "data": {
      "text/html": [
       "<div>\n",
       "<style scoped>\n",
       "    .dataframe tbody tr th:only-of-type {\n",
       "        vertical-align: middle;\n",
       "    }\n",
       "\n",
       "    .dataframe tbody tr th {\n",
       "        vertical-align: top;\n",
       "    }\n",
       "\n",
       "    .dataframe thead th {\n",
       "        text-align: right;\n",
       "    }\n",
       "</style>\n",
       "<table border=\"1\" class=\"dataframe\">\n",
       "  <thead>\n",
       "    <tr style=\"text-align: right;\">\n",
       "      <th></th>\n",
       "      <th>prior</th>\n",
       "      <th>likelihood</th>\n",
       "      <th>unnorm</th>\n",
       "      <th>posterior</th>\n",
       "    </tr>\n",
       "    <tr>\n",
       "      <th>door</th>\n",
       "      <th></th>\n",
       "      <th></th>\n",
       "      <th></th>\n",
       "      <th></th>\n",
       "    </tr>\n",
       "  </thead>\n",
       "  <tbody>\n",
       "    <tr>\n",
       "      <th>1</th>\n",
       "      <td>1/3</td>\n",
       "      <td>1.0</td>\n",
       "      <td>0.333333</td>\n",
       "      <td>0.5</td>\n",
       "    </tr>\n",
       "    <tr>\n",
       "      <th>2</th>\n",
       "      <td>1/3</td>\n",
       "      <td>0.0</td>\n",
       "      <td>0.0</td>\n",
       "      <td>0.0</td>\n",
       "    </tr>\n",
       "    <tr>\n",
       "      <th>3</th>\n",
       "      <td>1/3</td>\n",
       "      <td>1.0</td>\n",
       "      <td>0.333333</td>\n",
       "      <td>0.5</td>\n",
       "    </tr>\n",
       "  </tbody>\n",
       "</table>\n",
       "</div>"
      ],
      "text/plain": [
       "     prior  likelihood    unnorm posterior\n",
       "door                                      \n",
       "1      1/3         1.0  0.333333       0.5\n",
       "2      1/3         0.0       0.0       0.0\n",
       "3      1/3         1.0  0.333333       0.5"
      ]
     },
     "execution_count": 26,
     "metadata": {},
     "output_type": "execute_result"
    }
   ],
   "source": [
    "table = pd.DataFrame(index=[1, 2, 3])\n",
    "table.index = table.index.rename(\"door\")\n",
    "\n",
    "table[\"prior\"] = Fraction(1, 3)\n",
    "\n",
    "# if the car is behind door 1 or 3, Monty would definitely open door 2\n",
    "table.loc[1, \"likelihood\"] = 1\n",
    "table.loc[3, \"likelihood\"] = 1\n",
    "\n",
    "# the car is definitely not behind door 2\n",
    "table.loc[2, \"likelihood\"] = 0\n",
    "\n",
    "_ = update(table)\n",
    "table"
   ]
  },
  {
   "cell_type": "markdown",
   "id": "4f90e28b-7d16-4d0f-be8f-6ae223b8ae98",
   "metadata": {},
   "source": [
    "In the first scenario there is a 50% chance the car is behind door 3.\n",
    "\n",
    "The second scenario doesn't require any calculation - the only way that Monty would open door 3 is if the car is behind door 2."
   ]
  },
  {
   "cell_type": "markdown",
   "id": "e291d11a-0b1d-4a1c-aa9b-0355a7a7e7aa",
   "metadata": {},
   "source": [
    "## Exercise 4\n",
    "\n",
    "M&M’s are small candy-coated chocolates that come in a variety of colors.\n",
    "Mars, Inc., which makes M&M’s, changes the mixture of colors from time to time. In 1995, they introduced blue M&M’s.\n",
    "\n",
    "- In 1994, the color mix in a bag of plain M&M’s was 30% Brown, 20% Yellow, 20% Red, 10% Green, 10% Orange, 10% Tan.\n",
    "- In 1996, it was 24% Blue , 20% Green, 16% Orange, 14% Yellow, 13% Red, 13% Brown.\n",
    "\n",
    "Suppose a friend of mine has two bags of M&M’s, and he tells me that one is from 1994 and one from 1996. He won’t tell me which is which, but he gives me one M&M from each bag. One is yellow and one is green. What is the probability that the yellow one came from the 1994 bag?"
   ]
  },
  {
   "cell_type": "markdown",
   "id": "1d5fdcb3-2df4-44ea-ac4b-4798ad698344",
   "metadata": {},
   "source": [
    "### Solution\n",
    "\n",
    "Let's reformulate the problem. We have 2 bags of M&Ms - bag 1 and bag 2. First we pull a yellow from bag 1. Then, we pull a green from bag 2. What is the probability that bag 1 is the 1994 bag?\n",
    "\n",
    "We perform two Bayesian updates - one for each selection of an M&M - and use the posterior of the first selection as the prior for the second."
   ]
  },
  {
   "cell_type": "code",
   "execution_count": 30,
   "id": "8e356940-8310-473f-8c4d-3984859fec2b",
   "metadata": {
    "tags": []
   },
   "outputs": [
    {
     "data": {
      "text/html": [
       "<div>\n",
       "<style scoped>\n",
       "    .dataframe tbody tr th:only-of-type {\n",
       "        vertical-align: middle;\n",
       "    }\n",
       "\n",
       "    .dataframe tbody tr th {\n",
       "        vertical-align: top;\n",
       "    }\n",
       "\n",
       "    .dataframe thead th {\n",
       "        text-align: right;\n",
       "    }\n",
       "</style>\n",
       "<table border=\"1\" class=\"dataframe\">\n",
       "  <thead>\n",
       "    <tr style=\"text-align: right;\">\n",
       "      <th></th>\n",
       "      <th>prior</th>\n",
       "      <th>likelihood</th>\n",
       "      <th>unnorm</th>\n",
       "      <th>posterior</th>\n",
       "    </tr>\n",
       "    <tr>\n",
       "      <th>bag</th>\n",
       "      <th></th>\n",
       "      <th></th>\n",
       "      <th></th>\n",
       "      <th></th>\n",
       "    </tr>\n",
       "  </thead>\n",
       "  <tbody>\n",
       "    <tr>\n",
       "      <th>1</th>\n",
       "      <td>1/2</td>\n",
       "      <td>0.20</td>\n",
       "      <td>0.1</td>\n",
       "      <td>0.588235</td>\n",
       "    </tr>\n",
       "    <tr>\n",
       "      <th>2</th>\n",
       "      <td>1/2</td>\n",
       "      <td>0.14</td>\n",
       "      <td>0.07</td>\n",
       "      <td>0.411765</td>\n",
       "    </tr>\n",
       "  </tbody>\n",
       "</table>\n",
       "</div>"
      ],
      "text/plain": [
       "    prior  likelihood unnorm posterior\n",
       "bag                                   \n",
       "1     1/2        0.20    0.1  0.588235\n",
       "2     1/2        0.14   0.07  0.411765"
      ]
     },
     "execution_count": 30,
     "metadata": {},
     "output_type": "execute_result"
    }
   ],
   "source": [
    "table1 = pd.DataFrame(index=[1, 2])\n",
    "table1.index = table1.index.rename(\"bag\")\n",
    "\n",
    "table1[\"prior\"] = Fraction(1, 2)\n",
    "\n",
    "# there is a 20% chance of pulling a yellow out of the 1994 bag and 14% out of the 1996 bag\n",
    "table1[\"likelihood\"] = 0.2, 0.14\n",
    "\n",
    "_ = update(table1)\n",
    "table1"
   ]
  },
  {
   "cell_type": "code",
   "execution_count": 31,
   "id": "2602f039-b86e-4580-8a1c-0edd7bb46872",
   "metadata": {
    "tags": []
   },
   "outputs": [
    {
     "data": {
      "text/html": [
       "<div>\n",
       "<style scoped>\n",
       "    .dataframe tbody tr th:only-of-type {\n",
       "        vertical-align: middle;\n",
       "    }\n",
       "\n",
       "    .dataframe tbody tr th {\n",
       "        vertical-align: top;\n",
       "    }\n",
       "\n",
       "    .dataframe thead th {\n",
       "        text-align: right;\n",
       "    }\n",
       "</style>\n",
       "<table border=\"1\" class=\"dataframe\">\n",
       "  <thead>\n",
       "    <tr style=\"text-align: right;\">\n",
       "      <th></th>\n",
       "      <th>prior</th>\n",
       "      <th>likelihood</th>\n",
       "      <th>unnorm</th>\n",
       "      <th>posterior</th>\n",
       "    </tr>\n",
       "    <tr>\n",
       "      <th>bag</th>\n",
       "      <th></th>\n",
       "      <th></th>\n",
       "      <th></th>\n",
       "      <th></th>\n",
       "    </tr>\n",
       "  </thead>\n",
       "  <tbody>\n",
       "    <tr>\n",
       "      <th>1</th>\n",
       "      <td>0.588235</td>\n",
       "      <td>0.2</td>\n",
       "      <td>0.117647</td>\n",
       "      <td>0.740741</td>\n",
       "    </tr>\n",
       "    <tr>\n",
       "      <th>2</th>\n",
       "      <td>0.411765</td>\n",
       "      <td>0.1</td>\n",
       "      <td>0.041176</td>\n",
       "      <td>0.259259</td>\n",
       "    </tr>\n",
       "  </tbody>\n",
       "</table>\n",
       "</div>"
      ],
      "text/plain": [
       "        prior  likelihood    unnorm posterior\n",
       "bag                                          \n",
       "1    0.588235         0.2  0.117647  0.740741\n",
       "2    0.411765         0.1  0.041176  0.259259"
      ]
     },
     "execution_count": 31,
     "metadata": {},
     "output_type": "execute_result"
    }
   ],
   "source": [
    "table2 = pd.DataFrame(index=[1, 2])\n",
    "table2.index = table2.index.rename(\"bag\")\n",
    "\n",
    "table2[\"prior\"] = table1[\"posterior\"]\n",
    "\n",
    "# we pick the green out of the *second* bag\n",
    "# if the first bag is from 1994 then the second is from 1996 and there is a 20% chance of getting a green\n",
    "# if the second bag is from 1994 then there is a 10% chance of getting a green\n",
    "table2[\"likelihood\"] = 0.2, 0.1\n",
    "\n",
    "_ = update(table2)\n",
    "table2"
   ]
  },
  {
   "cell_type": "markdown",
   "id": "c56c92c0-3fed-45c4-a204-632d60a53abb",
   "metadata": {},
   "source": [
    "There is a 74% chance that the yellow M&M came from the 1994 bag."
   ]
  },
  {
   "cell_type": "code",
   "execution_count": 14,
   "id": "8a409a97-d3c2-450c-850a-001597a9616c",
   "metadata": {
    "tags": []
   },
   "outputs": [
    {
     "data": {
      "text/html": [
       "<div>\n",
       "<style scoped>\n",
       "    .dataframe tbody tr th:only-of-type {\n",
       "        vertical-align: middle;\n",
       "    }\n",
       "\n",
       "    .dataframe tbody tr th {\n",
       "        vertical-align: top;\n",
       "    }\n",
       "\n",
       "    .dataframe thead th {\n",
       "        text-align: right;\n",
       "    }\n",
       "</style>\n",
       "<table border=\"1\" class=\"dataframe\">\n",
       "  <thead>\n",
       "    <tr style=\"text-align: right;\">\n",
       "      <th></th>\n",
       "      <th>prior</th>\n",
       "      <th>likelihood</th>\n",
       "      <th>unnorm</th>\n",
       "      <th>posterior</th>\n",
       "    </tr>\n",
       "  </thead>\n",
       "  <tbody>\n",
       "    <tr>\n",
       "      <th>1</th>\n",
       "      <td>1/3</td>\n",
       "      <td>1/2</td>\n",
       "      <td>1/6</td>\n",
       "      <td>1/3</td>\n",
       "    </tr>\n",
       "    <tr>\n",
       "      <th>2</th>\n",
       "      <td>1/3</td>\n",
       "      <td>1</td>\n",
       "      <td>1/3</td>\n",
       "      <td>2/3</td>\n",
       "    </tr>\n",
       "    <tr>\n",
       "      <th>3</th>\n",
       "      <td>1/3</td>\n",
       "      <td>0</td>\n",
       "      <td>0</td>\n",
       "      <td>0</td>\n",
       "    </tr>\n",
       "  </tbody>\n",
       "</table>\n",
       "</div>"
      ],
      "text/plain": [
       "  prior likelihood unnorm posterior\n",
       "1   1/3        1/2    1/6       1/3\n",
       "2   1/3          1    1/3       2/3\n",
       "3   1/3          0      0         0"
      ]
     },
     "execution_count": 14,
     "metadata": {},
     "output_type": "execute_result"
    }
   ],
   "source": [
    "df = pd.DataFrame(index=[1, 2, 3])\n",
    "df[\"prior\"] = Fraction(1, 3), Fraction(1, 3), Fraction(1, 3)\n",
    "df[\"likelihood\"] = Fraction(1, 2), 1, 0\n",
    "\n",
    "total_probab = update(df)\n",
    "df"
   ]
  },
  {
   "cell_type": "markdown",
   "id": "263b3b81-1d93-431e-aa6d-d59a9c55c07b",
   "metadata": {},
   "source": [
    "Let's look at the probability that the car is behind door $i$. Say you choose door 1 and the host reveals a goat behind door 3.\n",
    "\n",
    "Likelihood:\n",
    "- If the car is behind door 1, what is the probability that the host would reveal a goat behind door 3? $\\frac{1}{2}$ - they could have revealed either door 2 or door 3\n",
    "- If the car is behind door 2, what is the probability that the host would reveal a goat behind door 3? 1 - it's the only one they could reveal."
   ]
  },
  {
   "cell_type": "code",
   "execution_count": null,
   "id": "52613813-2e8f-437f-ad11-aece6b5e3f38",
   "metadata": {},
   "outputs": [],
   "source": []
  }
 ],
 "metadata": {
  "kernelspec": {
   "display_name": "Python 3 (ipykernel)",
   "language": "python",
   "name": "python3"
  },
  "language_info": {
   "codemirror_mode": {
    "name": "ipython",
    "version": 3
   },
   "file_extension": ".py",
   "mimetype": "text/x-python",
   "name": "python",
   "nbconvert_exporter": "python",
   "pygments_lexer": "ipython3",
   "version": "3.10.9"
  }
 },
 "nbformat": 4,
 "nbformat_minor": 5
}
