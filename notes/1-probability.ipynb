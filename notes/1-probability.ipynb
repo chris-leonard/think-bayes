{
 "cells": [
  {
   "cell_type": "markdown",
   "id": "fef3f68c-30c4-4372-a2b8-861694bab8a5",
   "metadata": {},
   "source": [
    "# Notes"
   ]
  },
  {
   "cell_type": "markdown",
   "id": "3f819f48-4781-46ff-897f-e83d238088d1",
   "metadata": {},
   "source": [
    "## Set-up"
   ]
  },
  {
   "cell_type": "markdown",
   "id": "034ed555-0229-49f4-8f81-9d163f2834af",
   "metadata": {},
   "source": [
    "### Packages"
   ]
  },
  {
   "cell_type": "code",
   "execution_count": 1,
   "id": "d32fa5e2-9f0d-4800-9a36-7c4656d99c92",
   "metadata": {
    "tags": []
   },
   "outputs": [],
   "source": [
    "import os\n",
    "from urllib.request import urlretrieve\n",
    "\n",
    "import numpy as np\n",
    "import pandas as pd\n",
    "\n",
    "from const import DATA_DIR"
   ]
  },
  {
   "cell_type": "markdown",
   "id": "419f53a7-a9e5-455d-a6a5-ff7039836e34",
   "metadata": {},
   "source": [
    "### Load Data"
   ]
  },
  {
   "cell_type": "code",
   "execution_count": 2,
   "id": "a32f446d-2ace-4ae1-ac0f-21ef8686bf13",
   "metadata": {
    "tags": []
   },
   "outputs": [
    {
     "data": {
      "text/html": [
       "<div>\n",
       "<style scoped>\n",
       "    .dataframe tbody tr th:only-of-type {\n",
       "        vertical-align: middle;\n",
       "    }\n",
       "\n",
       "    .dataframe tbody tr th {\n",
       "        vertical-align: top;\n",
       "    }\n",
       "\n",
       "    .dataframe thead th {\n",
       "        text-align: right;\n",
       "    }\n",
       "</style>\n",
       "<table border=\"1\" class=\"dataframe\">\n",
       "  <thead>\n",
       "    <tr style=\"text-align: right;\">\n",
       "      <th></th>\n",
       "      <th>year</th>\n",
       "      <th>age</th>\n",
       "      <th>sex</th>\n",
       "      <th>polviews</th>\n",
       "      <th>partyid</th>\n",
       "      <th>indus10</th>\n",
       "    </tr>\n",
       "    <tr>\n",
       "      <th>caseid</th>\n",
       "      <th></th>\n",
       "      <th></th>\n",
       "      <th></th>\n",
       "      <th></th>\n",
       "      <th></th>\n",
       "      <th></th>\n",
       "    </tr>\n",
       "  </thead>\n",
       "  <tbody>\n",
       "    <tr>\n",
       "      <th>1</th>\n",
       "      <td>1974</td>\n",
       "      <td>21.0</td>\n",
       "      <td>1</td>\n",
       "      <td>4.0</td>\n",
       "      <td>2.0</td>\n",
       "      <td>4970.0</td>\n",
       "    </tr>\n",
       "    <tr>\n",
       "      <th>2</th>\n",
       "      <td>1974</td>\n",
       "      <td>41.0</td>\n",
       "      <td>1</td>\n",
       "      <td>5.0</td>\n",
       "      <td>0.0</td>\n",
       "      <td>9160.0</td>\n",
       "    </tr>\n",
       "    <tr>\n",
       "      <th>5</th>\n",
       "      <td>1974</td>\n",
       "      <td>58.0</td>\n",
       "      <td>2</td>\n",
       "      <td>6.0</td>\n",
       "      <td>1.0</td>\n",
       "      <td>2670.0</td>\n",
       "    </tr>\n",
       "    <tr>\n",
       "      <th>6</th>\n",
       "      <td>1974</td>\n",
       "      <td>30.0</td>\n",
       "      <td>1</td>\n",
       "      <td>5.0</td>\n",
       "      <td>4.0</td>\n",
       "      <td>6870.0</td>\n",
       "    </tr>\n",
       "    <tr>\n",
       "      <th>7</th>\n",
       "      <td>1974</td>\n",
       "      <td>48.0</td>\n",
       "      <td>1</td>\n",
       "      <td>5.0</td>\n",
       "      <td>4.0</td>\n",
       "      <td>7860.0</td>\n",
       "    </tr>\n",
       "  </tbody>\n",
       "</table>\n",
       "</div>"
      ],
      "text/plain": [
       "        year   age  sex  polviews  partyid  indus10\n",
       "caseid                                             \n",
       "1       1974  21.0    1       4.0      2.0   4970.0\n",
       "2       1974  41.0    1       5.0      0.0   9160.0\n",
       "5       1974  58.0    2       6.0      1.0   2670.0\n",
       "6       1974  30.0    1       5.0      4.0   6870.0\n",
       "7       1974  48.0    1       5.0      4.0   7860.0"
      ]
     },
     "execution_count": 2,
     "metadata": {},
     "output_type": "execute_result"
    }
   ],
   "source": [
    "def get_data_path(filename):\n",
    "    return os.path.join(DATA_DIR, filename)\n",
    "\n",
    "\n",
    "def download(url):\n",
    "    filename = os.path.basename(url)\n",
    "    filepath = get_data_path(filename)\n",
    "    if not os.path.exists(filepath):\n",
    "        local, _ = urlretrieve(url, filepath)\n",
    "        print('Downloaded ' + filename)\n",
    "\n",
    "    \n",
    "download(\"https://github.com/AllenDowney/ThinkBayes2/raw/master/data/gss_bayes.csv\")\n",
    "\n",
    "gss = pd.read_csv(get_data_path(\"gss_bayes.csv\"), index_col=0)\n",
    "gss.head()"
   ]
  },
  {
   "cell_type": "markdown",
   "id": "93dc56be-51de-4964-9a97-a3bdec6dfdf9",
   "metadata": {},
   "source": [
    "## Probability"
   ]
  },
  {
   "cell_type": "markdown",
   "id": "c1959577-2233-4615-bedd-3044ebdece1f",
   "metadata": {},
   "source": [
    "**Definition:** A *probability* is a fraction of a finite set.\n",
    "\n",
    "*Example:* The probability a GSS respondent is male is the fraction that the respondents that are male."
   ]
  },
  {
   "cell_type": "code",
   "execution_count": 3,
   "id": "161d4842-b165-4716-9cbd-a3be0e3c4478",
   "metadata": {
    "tags": []
   },
   "outputs": [
    {
     "data": {
      "text/plain": [
       "0.46214242239805237"
      ]
     },
     "execution_count": 3,
     "metadata": {},
     "output_type": "execute_result"
    }
   ],
   "source": [
    "def prob(A):\n",
    "    \"\"\"Probability of an event, A, a boolean Series.\"\"\"\n",
    "    return A.mean()\n",
    "\n",
    "\n",
    "male = (gss[\"sex\"] == 1)\n",
    "prob(male)"
   ]
  },
  {
   "cell_type": "markdown",
   "id": "d5ce0bc8-213c-4192-9812-d65212805528",
   "metadata": {},
   "source": [
    "## Conjunction"
   ]
  },
  {
   "cell_type": "markdown",
   "id": "a3421a8a-6664-4dc2-8681-ae007c454b16",
   "metadata": {},
   "source": [
    "**Conjunction**: The logical `and` operation. The probability of the conjunction `A` and `B` is the fraction for which both `A` and `B` are true."
   ]
  },
  {
   "cell_type": "code",
   "execution_count": 4,
   "id": "87f915e8-8e73-4243-b476-4239f8765a4a",
   "metadata": {
    "tags": []
   },
   "outputs": [
    {
     "data": {
      "text/plain": [
       "0.003388111178738081"
      ]
     },
     "execution_count": 4,
     "metadata": {},
     "output_type": "execute_result"
    }
   ],
   "source": [
    "banker = (gss['indus10'] == 6870)\n",
    "prob(male & banker)"
   ]
  },
  {
   "cell_type": "markdown",
   "id": "9222e354-dc1c-4698-9b27-52f54ad157bf",
   "metadata": {},
   "source": [
    "This is commutative:"
   ]
  },
  {
   "cell_type": "code",
   "execution_count": 5,
   "id": "12dd864f-8272-48ea-8c02-110ad6c3fa83",
   "metadata": {
    "tags": []
   },
   "outputs": [
    {
     "data": {
      "text/plain": [
       "0.003388111178738081"
      ]
     },
     "execution_count": 5,
     "metadata": {},
     "output_type": "execute_result"
    }
   ],
   "source": [
    "prob(banker & male)"
   ]
  },
  {
   "cell_type": "markdown",
   "id": "fe032e05-b9bf-4514-b39c-c3f8a4661d2d",
   "metadata": {},
   "source": [
    "## Conditional Probability"
   ]
  },
  {
   "cell_type": "markdown",
   "id": "4679e53f-b9d5-4cdf-86e7-1c9f95b03a0e",
   "metadata": {},
   "source": [
    "*Example:* What is the probability that a respondent is male, given that they are a banker? We interpret this as: \"Of all the respondents who are bankers, what fraction are male?”.\n",
    "\n",
    "To answer this we:\n",
    "- Restrict to bankers.\n",
    "- Compute the fraction that are male."
   ]
  },
  {
   "cell_type": "code",
   "execution_count": 6,
   "id": "55c761fc-3a04-49dc-8c90-04a731796557",
   "metadata": {
    "tags": []
   },
   "outputs": [
    {
     "data": {
      "text/plain": [
       "0.22939560439560439"
      ]
     },
     "execution_count": 6,
     "metadata": {},
     "output_type": "execute_result"
    }
   ],
   "source": [
    "prob(male[banker])"
   ]
  },
  {
   "cell_type": "code",
   "execution_count": 7,
   "id": "41170322-d371-462f-8d8e-1e926ca1520e",
   "metadata": {
    "tags": []
   },
   "outputs": [
    {
     "data": {
      "text/plain": [
       "0.22939560439560439"
      ]
     },
     "execution_count": 7,
     "metadata": {},
     "output_type": "execute_result"
    }
   ],
   "source": [
    "def conditional(proposition, given):\n",
    "    \"\"\"Probability of the proposition, conditional on given.\"\"\"\n",
    "    return prob(proposition[given])\n",
    "\n",
    "conditional(male, given=banker)"
   ]
  },
  {
   "cell_type": "markdown",
   "id": "99cadcd4-74ad-44e7-9643-24939e9b989e",
   "metadata": {},
   "source": [
    "Conditional probability isn't commutative:"
   ]
  },
  {
   "cell_type": "code",
   "execution_count": 8,
   "id": "564863e0-b277-4a09-a124-f88aa513c392",
   "metadata": {
    "tags": []
   },
   "outputs": [
    {
     "data": {
      "text/plain": [
       "0.007331313929496466"
      ]
     },
     "execution_count": 8,
     "metadata": {},
     "output_type": "execute_result"
    }
   ],
   "source": [
    "conditional(banker, given=male)"
   ]
  },
  {
   "cell_type": "markdown",
   "id": "7c025145-7ac8-4613-8049-0c5278a915a2",
   "metadata": {},
   "source": [
    "## Condition and Conjunction"
   ]
  },
  {
   "cell_type": "markdown",
   "id": "f3d173fd-1a9f-4900-8c0d-a7e9c1663fa5",
   "metadata": {},
   "source": [
    "We can combine conditions and conjunctions:"
   ]
  },
  {
   "cell_type": "code",
   "execution_count": 9,
   "id": "67f72873-2064-422d-807a-7378b5531b08",
   "metadata": {
    "tags": []
   },
   "outputs": [
    {
     "data": {
      "text/plain": [
       "0.2215568862275449"
      ]
     },
     "execution_count": 9,
     "metadata": {},
     "output_type": "execute_result"
    }
   ],
   "source": [
    "liberal = (gss['polviews'] <= 3)\n",
    "\n",
    "conditional(liberal, given=banker & male)"
   ]
  },
  {
   "cell_type": "code",
   "execution_count": 10,
   "id": "37dc1f5a-1f75-4822-9685-72a4e43fd847",
   "metadata": {
    "tags": []
   },
   "outputs": [
    {
     "data": {
      "text/plain": [
       "0.050824175824175824"
      ]
     },
     "execution_count": 10,
     "metadata": {},
     "output_type": "execute_result"
    }
   ],
   "source": [
    "conditional(liberal & male, given=banker)"
   ]
  },
  {
   "cell_type": "markdown",
   "id": "5f5f8769-3dfe-4436-bfea-94909916ea26",
   "metadata": {},
   "source": [
    "## Laws of Probability"
   ]
  },
  {
   "cell_type": "markdown",
   "id": "d52ed751-0da2-4ccd-ab43-9e81566e95e5",
   "metadata": {},
   "source": [
    "### Theorem 1\n",
    "\n",
    "\\begin{equation}\n",
    "    P(A|B) = \\frac{P(A \\text{ and } B)}{P(B)}.\n",
    "\\end{equation}"
   ]
  },
  {
   "cell_type": "code",
   "execution_count": 11,
   "id": "e224f4ff-a4af-4deb-b90b-b263cfff7682",
   "metadata": {
    "tags": []
   },
   "outputs": [
    {
     "name": "stdout",
     "output_type": "stream",
     "text": [
      "0.22939560439560439\n",
      "0.22939560439560439\n"
     ]
    }
   ],
   "source": [
    "print(conditional(male, given=banker))\n",
    "print(prob(male & banker) / prob(banker))"
   ]
  },
  {
   "cell_type": "markdown",
   "id": "ed15183d-9d97-440b-946e-e93bce92becd",
   "metadata": {},
   "source": [
    "### Theorem 2\n",
    "\n",
    "\\begin{equation}\n",
    "    P(A \\text{ and } B) = P(A|B) \\cdot P(B).\n",
    "\\end{equation}"
   ]
  },
  {
   "cell_type": "code",
   "execution_count": 12,
   "id": "0a708cad-084c-4011-9af5-40f2e0605bf8",
   "metadata": {
    "tags": []
   },
   "outputs": [
    {
     "name": "stdout",
     "output_type": "stream",
     "text": [
      "0.003388111178738081\n",
      "0.003388111178738081\n"
     ]
    }
   ],
   "source": [
    "print(prob(male & banker))\n",
    "print(conditional(male, given=banker) * prob(banker))"
   ]
  },
  {
   "cell_type": "markdown",
   "id": "f102b09f-820c-46f3-8651-96e5e6879447",
   "metadata": {},
   "source": [
    "### Theorem 3 (Bayes)\n",
    "\n",
    "\\begin{equation}\n",
    "    P(A|B) \\cdot P(B) = P(B|A) \\cdot P(A)\n",
    "\\end{equation}\n",
    "\n",
    "or \n",
    "\n",
    "\\begin{equation}\n",
    "    P(A|B)= \\frac{P(B|A) \\cdot P(A)}{P(B)}.\n",
    "\\end{equation}"
   ]
  },
  {
   "cell_type": "code",
   "execution_count": 13,
   "id": "16bfa0d7-5e70-40b1-90b8-25bdf990430a",
   "metadata": {
    "tags": []
   },
   "outputs": [
    {
     "name": "stdout",
     "output_type": "stream",
     "text": [
      "0.003388111178738081\n",
      "0.003388111178738081\n"
     ]
    }
   ],
   "source": [
    "print(conditional(male, given=banker) * prob(banker))\n",
    "print(conditional(banker, given=male) * prob(male))"
   ]
  },
  {
   "cell_type": "markdown",
   "id": "b0900ba2-7f10-4555-bec1-4ccf3ab55417",
   "metadata": {},
   "source": [
    "## The Law of Total Probability"
   ]
  },
  {
   "cell_type": "markdown",
   "id": "88aa1f0c-cef3-47a1-b843-38c85f94a68f",
   "metadata": {},
   "source": [
    "If $B_1$ and $B_2$ are Mutually Exclusive and Collective Exhaustive (MECE) then\n",
    "\n",
    "\\begin{align}\n",
    "    P(A)\n",
    "        & = P(A \\text{ and } B_1) + P(A \\text{ and } B_2) \\\\\n",
    "        & = P(A | B_1) \\cdot P(B_1) + P(A | B_2) \\cdot P(B_2).\n",
    "\\end{align}"
   ]
  },
  {
   "cell_type": "code",
   "execution_count": 14,
   "id": "f6592321-c449-4cdb-bf0d-8772225bea18",
   "metadata": {
    "tags": []
   },
   "outputs": [
    {
     "name": "stdout",
     "output_type": "stream",
     "text": [
      "0.014769730168391155\n",
      "0.014769730168391155\n"
     ]
    }
   ],
   "source": [
    "print(prob(banker))\n",
    "print(prob(male & banker) + prob(~male & banker))"
   ]
  },
  {
   "cell_type": "markdown",
   "id": "bf51c893-2748-45ed-8b1d-8f614ec622d0",
   "metadata": {},
   "source": [
    "If $B_1,\\ldots, B_n$ are MECE then\n",
    "\n",
    "\\begin{equation}\n",
    "    P(A) = \\sum_{i=1}^n P(A | B_i) \\cdot P(B_i).\n",
    "\\end{equation}"
   ]
  },
  {
   "cell_type": "code",
   "execution_count": 15,
   "id": "d24ff85a-9051-400d-82b7-1dd2e05405c8",
   "metadata": {
    "tags": []
   },
   "outputs": [
    {
     "data": {
      "text/plain": [
       "polviews\n",
       "1.0     1442\n",
       "2.0     5808\n",
       "3.0     6243\n",
       "4.0    18943\n",
       "5.0     7940\n",
       "6.0     7319\n",
       "7.0     1595\n",
       "Name: count, dtype: int64"
      ]
     },
     "execution_count": 15,
     "metadata": {},
     "output_type": "execute_result"
    }
   ],
   "source": [
    "gss[\"polviews\"].value_counts().sort_index()"
   ]
  },
  {
   "cell_type": "code",
   "execution_count": 16,
   "id": "2321a118-ce83-4726-87ee-c943f08f783a",
   "metadata": {
    "tags": []
   },
   "outputs": [
    {
     "name": "stdout",
     "output_type": "stream",
     "text": [
      "0.46214242239805237\n"
     ]
    }
   ],
   "source": [
    "print(prob(male))"
   ]
  },
  {
   "cell_type": "code",
   "execution_count": 17,
   "id": "fd2f8175-bbd1-4278-8c3e-834417e7cfea",
   "metadata": {
    "tags": []
   },
   "outputs": [
    {
     "name": "stdout",
     "output_type": "stream",
     "text": [
      "0.4621424223980523\n"
     ]
    }
   ],
   "source": [
    "prob_sum = 0\n",
    "for i in range(1, 8):\n",
    "    condition = (gss[\"polviews\"] == i)\n",
    "    prob_sum += conditional(male, given=condition) * prob(condition)\n",
    "\n",
    "print(prob_sum)"
   ]
  },
  {
   "cell_type": "markdown",
   "id": "ab7e5a80-54b9-4016-a9f9-aa7ce314a2c9",
   "metadata": {},
   "source": [
    "This can be written more concisely using a *generator expression* (analogous to a list comprehension):"
   ]
  },
  {
   "cell_type": "code",
   "execution_count": 18,
   "id": "d5bf451d-bf5d-4d5e-9a72-7cd91c8edba5",
   "metadata": {
    "tags": []
   },
   "outputs": [
    {
     "data": {
      "text/plain": [
       "0.4621424223980523"
      ]
     },
     "execution_count": 18,
     "metadata": {},
     "output_type": "execute_result"
    }
   ],
   "source": [
    "polview = gss[\"polviews\"]\n",
    "sum(conditional(male, given=(polview==i)) * prob(polview==i) for i in range(1, 8))"
   ]
  },
  {
   "cell_type": "markdown",
   "id": "94285a82-17f5-408a-b351-8386830c4e16",
   "metadata": {},
   "source": [
    ">Many of the methods in this book are based on discrete distributions, which makes some people worry about numerical errors. But for real-world problems, numerical errors are almost always smaller than modeling errors.\n",
    ">\n",
    ">Furthermore, the discrete approach often allows better modeling decisions, and I would rather have an approximate solution to a good model than an exact solution to a bad model."
   ]
  },
  {
   "cell_type": "markdown",
   "id": "4f524357-91c4-4591-bb97-ac3637e7cdef",
   "metadata": {},
   "source": [
    "# Exercises"
   ]
  },
  {
   "cell_type": "markdown",
   "id": "64c6f3d8-c17a-4880-9fb7-27988b5c49a6",
   "metadata": {},
   "source": [
    "## Exercise 1\n",
    "\n",
    ">Linda is 31 years old, single, outspoken, and very bright. She majored in philosophy. As a student, she was deeply concerned with issues of discrimination and social justice, and also participated in anti-nuclear demonstrations. Which is more probable?\n",
    ">\n",
    ">Linda is a banker.\n",
    ">\n",
    ">Linda is a banker and considers herself a liberal Democrat.\n",
    "\n",
    "To answer this question, compute\n",
    "- The probability that Linda is a female banker,\n",
    "- The probability that Linda is a liberal female banker, and\n",
    "- The probability that Linda is a liberal female banker and a Democrat."
   ]
  },
  {
   "cell_type": "markdown",
   "id": "a58a3142-3a70-47fe-ac62-47f468bc3493",
   "metadata": {},
   "source": [
    "### Solution"
   ]
  },
  {
   "cell_type": "code",
   "execution_count": 25,
   "id": "91c07428-1310-4e3d-bdb6-223773e089ab",
   "metadata": {
    "tags": []
   },
   "outputs": [
    {
     "name": "stdout",
     "output_type": "stream",
     "text": [
      "Probability Linda is a female banker: 0.0114\n",
      "Probability Linda is a liberal female banker: 0.0026\n",
      "Probability Linda is a liberal female banker and a Democrat: 0.0012\n"
     ]
    }
   ],
   "source": [
    "female = (gss[\"sex\"] == 2)\n",
    "banker = (gss['indus10'] == 6870)\n",
    "liberal = (gss['polviews'] <= 3)\n",
    "democrat = (gss['partyid'] <= 1)\n",
    "\n",
    "print(f\"Probability Linda is a female banker: {prob(female & banker):.4f}\")\n",
    "print(f\"Probability Linda is a liberal female banker: {prob(liberal & female & banker):.4f}\")\n",
    "print(f\"Probability Linda is a liberal female banker and a Democrat: {prob(liberal & female & banker & democrat):.4f}\")"
   ]
  },
  {
   "cell_type": "markdown",
   "id": "99644eb8-54c4-4aa6-bdd2-72f6bd9efe87",
   "metadata": {},
   "source": [
    "## Exercise 2\n",
    "\n",
    "Use conditional to compute the following probabilities:\n",
    "\n",
    "- What is the probability that a respondent is liberal, given that they are a Democrat?\n",
    "- What is the probability that a respondent is a Democrat, given that they are liberal?\n",
    "\n",
    "Think carefully about the order of the arguments you pass to conditional."
   ]
  },
  {
   "cell_type": "markdown",
   "id": "2a82a230-bf64-4a8d-9ef2-7f538aa56d4b",
   "metadata": {},
   "source": [
    "### Solution"
   ]
  },
  {
   "cell_type": "code",
   "execution_count": 26,
   "id": "5e110d57-731a-4f02-a3e4-b56fc040c484",
   "metadata": {
    "tags": []
   },
   "outputs": [
    {
     "name": "stdout",
     "output_type": "stream",
     "text": [
      "Probability respondent is liberal, given they are a Democrat: 0.39\n",
      "Probability respondent is liberal, given they are a Democrat: 0.52\n"
     ]
    }
   ],
   "source": [
    "print(f\"Probability respondent is liberal, given they are a Democrat: {conditional(liberal, given=democrat):.2f}\")\n",
    "print(f\"Probability respondent is liberal, given they are a Democrat: {conditional(democrat, given=liberal):.2f}\")"
   ]
  },
  {
   "cell_type": "markdown",
   "id": "f0d42887-bd3b-4a01-abc1-663d64e0f512",
   "metadata": {},
   "source": [
    "## Exercise 3\n",
    "\n",
    "There’s a famous quote about young people, old people, liberals, and conservatives that goes something like:\n",
    "\n",
    ">If you are not a liberal at 25, you have no heart. If you are not a conservative at 35, you have no brain.\n",
    "\n",
    "Use prob and conditional to compute the following probabilities.\n",
    "\n",
    "- What is the probability that a randomly chosen respondent is a young liberal?\n",
    "- What is the probability that a young person is liberal?\n",
    "- What fraction of respondents are old conservatives?\n",
    "- What fraction of conservatives are old?"
   ]
  },
  {
   "cell_type": "markdown",
   "id": "deeba798-da2e-444b-b01e-003c095829b4",
   "metadata": {},
   "source": [
    "### Solution"
   ]
  },
  {
   "cell_type": "code",
   "execution_count": 30,
   "id": "483f182c-8657-47ae-ae1f-e17cc159aa97",
   "metadata": {
    "tags": []
   },
   "outputs": [
    {
     "name": "stdout",
     "output_type": "stream",
     "text": [
      "Probability that a randomly chosen respondent is a young liberal: 0.066\n",
      "Probability that a young person is liberal: 0.339\n",
      "Fraction of respondents that are old conservatives: 0.067\n",
      "Fraction of conservatives are old: 0.196\n"
     ]
    }
   ],
   "source": [
    "# from the book\n",
    "young = (gss['age'] < 30)\n",
    "old = (gss['age'] >= 65)\n",
    "conservative = (gss['polviews'] >= 5)\n",
    "\n",
    "print(f\"Probability that a randomly chosen respondent is a young liberal: {prob(young & liberal):.3f}\")\n",
    "print(f\"Probability that a young person is liberal: {conditional(liberal, given=young):.3f}\")\n",
    "print(f\"Fraction of respondents that are old conservatives: {prob(old & conservative):.3f}\")\n",
    "print(f\"Fraction of conservatives are old: {conditional(old, given=conservative):.3f}\")"
   ]
  },
  {
   "cell_type": "code",
   "execution_count": null,
   "id": "61094f3b-c6b5-4463-b34b-863cfa4d3db6",
   "metadata": {},
   "outputs": [],
   "source": []
  }
 ],
 "metadata": {
  "kernelspec": {
   "display_name": "Python 3 (ipykernel)",
   "language": "python",
   "name": "python3"
  },
  "language_info": {
   "codemirror_mode": {
    "name": "ipython",
    "version": 3
   },
   "file_extension": ".py",
   "mimetype": "text/x-python",
   "name": "python",
   "nbconvert_exporter": "python",
   "pygments_lexer": "ipython3",
   "version": "3.10.9"
  }
 },
 "nbformat": 4,
 "nbformat_minor": 5
}
